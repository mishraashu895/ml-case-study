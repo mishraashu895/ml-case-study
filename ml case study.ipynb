{
 "cells": [
  {
   "cell_type": "code",
   "execution_count": 170,
   "id": "b048c57b",
   "metadata": {},
   "outputs": [],
   "source": [
    "import pandas as pd\n",
    "import numpy as ny"
   ]
  },
  {
   "cell_type": "markdown",
   "id": "a14be83f",
   "metadata": {},
   "source": [
    "# Importing Dataset"
   ]
  },
  {
   "cell_type": "code",
   "execution_count": 171,
   "id": "386e8c3a",
   "metadata": {},
   "outputs": [],
   "source": [
    "df = pd.read_csv('adult.data') \n",
    "x = df.iloc[:,:-1].values\n",
    "y = df.iloc[:,-1].values"
   ]
  },
  {
   "cell_type": "code",
   "execution_count": 241,
   "id": "008ccde6",
   "metadata": {},
   "outputs": [
    {
     "data": {
      "text/html": [
       "<div>\n",
       "<style scoped>\n",
       "    .dataframe tbody tr th:only-of-type {\n",
       "        vertical-align: middle;\n",
       "    }\n",
       "\n",
       "    .dataframe tbody tr th {\n",
       "        vertical-align: top;\n",
       "    }\n",
       "\n",
       "    .dataframe thead th {\n",
       "        text-align: right;\n",
       "    }\n",
       "</style>\n",
       "<table border=\"1\" class=\"dataframe\">\n",
       "  <thead>\n",
       "    <tr style=\"text-align: right;\">\n",
       "      <th></th>\n",
       "      <th>39</th>\n",
       "      <th>State-gov</th>\n",
       "      <th>77516</th>\n",
       "      <th>Bachelors</th>\n",
       "      <th>13</th>\n",
       "      <th>Never-married</th>\n",
       "      <th>Adm-clerical</th>\n",
       "      <th>Not-in-family</th>\n",
       "      <th>White</th>\n",
       "      <th>Male</th>\n",
       "      <th>2174</th>\n",
       "      <th>0</th>\n",
       "      <th>40</th>\n",
       "      <th>United-States</th>\n",
       "      <th>&lt;=50K</th>\n",
       "    </tr>\n",
       "  </thead>\n",
       "  <tbody>\n",
       "    <tr>\n",
       "      <th>0</th>\n",
       "      <td>50</td>\n",
       "      <td>Self-emp-not-inc</td>\n",
       "      <td>83311</td>\n",
       "      <td>Bachelors</td>\n",
       "      <td>13</td>\n",
       "      <td>Married-civ-spouse</td>\n",
       "      <td>Exec-managerial</td>\n",
       "      <td>Husband</td>\n",
       "      <td>White</td>\n",
       "      <td>Male</td>\n",
       "      <td>0</td>\n",
       "      <td>0</td>\n",
       "      <td>13</td>\n",
       "      <td>United-States</td>\n",
       "      <td>&lt;=50K</td>\n",
       "    </tr>\n",
       "    <tr>\n",
       "      <th>1</th>\n",
       "      <td>38</td>\n",
       "      <td>Private</td>\n",
       "      <td>215646</td>\n",
       "      <td>HS-grad</td>\n",
       "      <td>9</td>\n",
       "      <td>Divorced</td>\n",
       "      <td>Handlers-cleaners</td>\n",
       "      <td>Not-in-family</td>\n",
       "      <td>White</td>\n",
       "      <td>Male</td>\n",
       "      <td>0</td>\n",
       "      <td>0</td>\n",
       "      <td>40</td>\n",
       "      <td>United-States</td>\n",
       "      <td>&lt;=50K</td>\n",
       "    </tr>\n",
       "    <tr>\n",
       "      <th>2</th>\n",
       "      <td>53</td>\n",
       "      <td>Private</td>\n",
       "      <td>234721</td>\n",
       "      <td>11th</td>\n",
       "      <td>7</td>\n",
       "      <td>Married-civ-spouse</td>\n",
       "      <td>Handlers-cleaners</td>\n",
       "      <td>Husband</td>\n",
       "      <td>Black</td>\n",
       "      <td>Male</td>\n",
       "      <td>0</td>\n",
       "      <td>0</td>\n",
       "      <td>40</td>\n",
       "      <td>United-States</td>\n",
       "      <td>&lt;=50K</td>\n",
       "    </tr>\n",
       "    <tr>\n",
       "      <th>3</th>\n",
       "      <td>28</td>\n",
       "      <td>Private</td>\n",
       "      <td>338409</td>\n",
       "      <td>Bachelors</td>\n",
       "      <td>13</td>\n",
       "      <td>Married-civ-spouse</td>\n",
       "      <td>Prof-specialty</td>\n",
       "      <td>Wife</td>\n",
       "      <td>Black</td>\n",
       "      <td>Female</td>\n",
       "      <td>0</td>\n",
       "      <td>0</td>\n",
       "      <td>40</td>\n",
       "      <td>Cuba</td>\n",
       "      <td>&lt;=50K</td>\n",
       "    </tr>\n",
       "    <tr>\n",
       "      <th>4</th>\n",
       "      <td>37</td>\n",
       "      <td>Private</td>\n",
       "      <td>284582</td>\n",
       "      <td>Masters</td>\n",
       "      <td>14</td>\n",
       "      <td>Married-civ-spouse</td>\n",
       "      <td>Exec-managerial</td>\n",
       "      <td>Wife</td>\n",
       "      <td>White</td>\n",
       "      <td>Female</td>\n",
       "      <td>0</td>\n",
       "      <td>0</td>\n",
       "      <td>40</td>\n",
       "      <td>United-States</td>\n",
       "      <td>&lt;=50K</td>\n",
       "    </tr>\n",
       "  </tbody>\n",
       "</table>\n",
       "</div>"
      ],
      "text/plain": [
       "   39          State-gov   77516   Bachelors   13        Never-married  \\\n",
       "0  50   Self-emp-not-inc   83311   Bachelors   13   Married-civ-spouse   \n",
       "1  38            Private  215646     HS-grad    9             Divorced   \n",
       "2  53            Private  234721        11th    7   Married-civ-spouse   \n",
       "3  28            Private  338409   Bachelors   13   Married-civ-spouse   \n",
       "4  37            Private  284582     Masters   14   Married-civ-spouse   \n",
       "\n",
       "         Adm-clerical   Not-in-family   White     Male   2174   0   40  \\\n",
       "0     Exec-managerial         Husband   White     Male      0   0   13   \n",
       "1   Handlers-cleaners   Not-in-family   White     Male      0   0   40   \n",
       "2   Handlers-cleaners         Husband   Black     Male      0   0   40   \n",
       "3      Prof-specialty            Wife   Black   Female      0   0   40   \n",
       "4     Exec-managerial            Wife   White   Female      0   0   40   \n",
       "\n",
       "    United-States   <=50K  \n",
       "0   United-States   <=50K  \n",
       "1   United-States   <=50K  \n",
       "2   United-States   <=50K  \n",
       "3            Cuba   <=50K  \n",
       "4   United-States   <=50K  "
      ]
     },
     "execution_count": 241,
     "metadata": {},
     "output_type": "execute_result"
    }
   ],
   "source": [
    "df.head()"
   ]
  },
  {
   "cell_type": "code",
   "execution_count": 146,
   "id": "342e7c2d",
   "metadata": {},
   "outputs": [
    {
     "name": "stdout",
     "output_type": "stream",
     "text": [
      "[[50 ' Self-emp-not-inc' 83311 ... 0 13 ' United-States']\n",
      " [38 ' Private' 215646 ... 0 40 ' United-States']\n",
      " [53 ' Private' 234721 ... 0 40 ' United-States']\n",
      " ...\n",
      " [58 ' Private' 151910 ... 0 40 ' United-States']\n",
      " [22 ' Private' 201490 ... 0 20 ' United-States']\n",
      " [52 ' Self-emp-inc' 287927 ... 0 40 ' United-States']]\n"
     ]
    }
   ],
   "source": [
    "print(x)"
   ]
  },
  {
   "cell_type": "code",
   "execution_count": 147,
   "id": "cbd8a014",
   "metadata": {},
   "outputs": [
    {
     "name": "stdout",
     "output_type": "stream",
     "text": [
      "[' <=50K' ' <=50K' ' <=50K' ... ' <=50K' ' <=50K' ' >50K']\n"
     ]
    }
   ],
   "source": [
    "print(y)"
   ]
  },
  {
   "cell_type": "markdown",
   "id": "cd6fe8da",
   "metadata": {},
   "source": [
    "# data preprocessing"
   ]
  },
  {
   "cell_type": "code",
   "execution_count": 172,
   "id": "2fb71054",
   "metadata": {},
   "outputs": [],
   "source": [
    "from sklearn.impute import SimpleImputer\n",
    "impu = SimpleImputer(missing_values=ny.nan, strategy='most_frequent')\n",
    "impu.fit(x[:,1:])\n",
    "x[:,1:] = impu.transform(x[:,1:])"
   ]
  },
  {
   "cell_type": "markdown",
   "id": "1c51b903",
   "metadata": {},
   "source": [
    "# label Encoding"
   ]
  },
  {
   "cell_type": "code",
   "execution_count": 173,
   "id": "810a69cd",
   "metadata": {},
   "outputs": [],
   "source": [
    "from sklearn.preprocessing import LabelEncoder\n",
    "l1 = LabelEncoder()\n",
    "l3 = LabelEncoder()\n",
    "l5 = LabelEncoder()\n",
    "l6 = LabelEncoder()\n",
    "l7 = LabelEncoder()\n",
    "l8 = LabelEncoder()\n",
    "l9 = LabelEncoder()\n",
    "l13 = LabelEncoder()\n",
    "x[:,1] = l1.fit_transform(x[:,1])\n",
    "x[:,3] = l3.fit_transform(x[:,3])\n",
    "x[:,5] = l5.fit_transform(x[:,5])\n",
    "x[:,6] = l6.fit_transform(x[:,6])\n",
    "x[:,7] = l7.fit_transform(x[:,7])\n",
    "x[:,8] = l8.fit_transform(x[:,8])\n",
    "x[:,9] = l9.fit_transform(x[:,9])\n",
    "x[:,13] = l13.fit_transform(x[:,13])\n",
    "le = LabelEncoder()\n",
    "y= le.fit_transform(y)"
   ]
  },
  {
   "cell_type": "code",
   "execution_count": 174,
   "id": "192b5184",
   "metadata": {},
   "outputs": [
    {
     "name": "stdout",
     "output_type": "stream",
     "text": [
      "[[50 6 83311 ... 0 13 39]\n",
      " [38 4 215646 ... 0 40 39]\n",
      " [53 4 234721 ... 0 40 39]\n",
      " ...\n",
      " [58 4 151910 ... 0 40 39]\n",
      " [22 4 201490 ... 0 20 39]\n",
      " [52 5 287927 ... 0 40 39]]\n",
      "[0 0 0 ... 0 0 1]\n"
     ]
    }
   ],
   "source": [
    "print(x)\n",
    "print(y)"
   ]
  },
  {
   "cell_type": "markdown",
   "id": "27ece3f1",
   "metadata": {},
   "source": [
    "# splitting dataset into training  and test set"
   ]
  },
  {
   "cell_type": "code",
   "execution_count": 175,
   "id": "e503f1c7",
   "metadata": {},
   "outputs": [],
   "source": [
    "\n",
    "from sklearn.model_selection import train_test_split\n",
    "X_train,X_test,Y_train,Y_test = train_test_split(x,y,test_size=0.2,random_state=0)"
   ]
  },
  {
   "cell_type": "code",
   "execution_count": 176,
   "id": "a6909c50",
   "metadata": {},
   "outputs": [
    {
     "name": "stdout",
     "output_type": "stream",
     "text": [
      "[[40 5 193524 ... 0 40 39]\n",
      " [46 4 188027 ... 0 45 39]\n",
      " [33 0 202498 ... 0 40 13]\n",
      " ...\n",
      " [67 0 192916 ... 0 11 39]\n",
      " [24 4 34446 ... 0 37 39]\n",
      " [53 4 257940 ... 0 40 39]]\n",
      "[1 0 0 ... 0 0 0]\n"
     ]
    }
   ],
   "source": [
    "print(X_test)\n",
    "print(Y_test)"
   ]
  },
  {
   "cell_type": "markdown",
   "id": "693c8102",
   "metadata": {},
   "source": [
    "# feature scaling"
   ]
  },
  {
   "cell_type": "markdown",
   "id": "5087c5f1",
   "metadata": {},
   "source": [
    "#from sklearn.preprocessing import StandardScaler\n",
    "sc = StandardScaler()\n",
    "X_train = sc.fit_transform(X_train)\n",
    "X_test = sc.fit_transform(X_test)\n",
    "print(X_train)"
   ]
  },
  {
   "cell_type": "code",
   "execution_count": 210,
   "id": "8e97eb00",
   "metadata": {},
   "outputs": [
    {
     "name": "stdout",
     "output_type": "stream",
     "text": [
      "[[-0.33628468  0.09127551 -0.69315211 ... -0.21734867  1.99590813\n",
      "   0.29260475]\n",
      " [ 1.13272256  1.46399178 -0.76998826 ... -0.21734867  0.77463545\n",
      "   0.29260475]\n",
      " [-0.26283431  0.09127551  0.07949564 ... -0.21734867  1.10030817\n",
      "   0.29260475]\n",
      " ...\n",
      " [ 0.32476858  1.46399178  1.16037777 ... -0.21734867 -0.85372811\n",
      "   0.29260475]\n",
      " [-1.29113938  2.15034991 -1.44140287 ... -0.21734867  0.77463545\n",
      "   0.29260475]\n",
      " [ 0.76547075  0.77763364 -0.76719457 ... -0.21734867 -0.69089176\n",
      "   0.29260475]]\n"
     ]
    }
   ],
   "source": [
    "from sklearn.preprocessing import StandardScaler \n",
    "sc = StandardScaler()\n",
    "X_train = sc.fit_transform(X_train)\n",
    "X_test = sc.fit_transform(X_test)\n",
    "print(X_train)"
   ]
  },
  {
   "cell_type": "code",
   "execution_count": 211,
   "id": "a211a190",
   "metadata": {},
   "outputs": [
    {
     "name": "stdout",
     "output_type": "stream",
     "text": [
      "[[ 0.10226245  0.77448414  0.03821724 ... -0.2139029  -0.01939813\n",
      "   0.28745442]\n",
      " [ 0.53884445  0.08548951 -0.01195668 ... -0.2139029   0.37733754\n",
      "   0.28745442]\n",
      " [-0.40708322 -2.67048904  0.1201275  ... -0.2139029  -0.01939813\n",
      "  -3.03356114]\n",
      " ...\n",
      " [ 2.06688145 -2.67048904  0.03266771 ... -0.2139029  -2.32046503\n",
      "   0.28745442]\n",
      " [-1.06195621  0.08548951 -1.41376862 ... -0.2139029  -0.25743954\n",
      "   0.28745442]\n",
      " [ 1.04819011  0.08548951  0.62617485 ... -0.2139029  -0.01939813\n",
      "   0.28745442]]\n"
     ]
    }
   ],
   "source": [
    "print(X_test)"
   ]
  },
  {
   "cell_type": "markdown",
   "id": "f523a7e6",
   "metadata": {},
   "source": [
    "# training Dataset using Xgboost"
   ]
  },
  {
   "cell_type": "code",
   "execution_count": 179,
   "id": "f0245bc9",
   "metadata": {},
   "outputs": [
    {
     "data": {
      "text/plain": [
       "XGBClassifier(base_score=0.5, booster='gbtree', callbacks=None,\n",
       "              colsample_bylevel=1, colsample_bynode=1, colsample_bytree=1,\n",
       "              early_stopping_rounds=None, enable_categorical=False,\n",
       "              eval_metric=None, gamma=0, gpu_id=-1, grow_policy='depthwise',\n",
       "              importance_type=None, interaction_constraints='',\n",
       "              learning_rate=0.300000012, max_bin=256, max_cat_to_onehot=4,\n",
       "              max_delta_step=0, max_depth=6, max_leaves=0, min_child_weight=1,\n",
       "              missing=nan, monotone_constraints='()', n_estimators=100,\n",
       "              n_jobs=0, num_parallel_tree=1, predictor='auto', random_state=0,\n",
       "              reg_alpha=0, reg_lambda=1, ...)"
      ]
     },
     "execution_count": 179,
     "metadata": {},
     "output_type": "execute_result"
    }
   ],
   "source": [
    "from xgboost import XGBClassifier\n",
    "classifier = XGBClassifier()\n",
    "classifier.fit(X_train,Y_train)"
   ]
  },
  {
   "cell_type": "code",
   "execution_count": 180,
   "id": "cf5629c8",
   "metadata": {},
   "outputs": [],
   "source": [
    "from sklearn.metrics import confusion_matrix, accuracy_score"
   ]
  },
  {
   "cell_type": "code",
   "execution_count": 247,
   "id": "ed8aa9bc",
   "metadata": {},
   "outputs": [
    {
     "name": "stdout",
     "output_type": "stream",
     "text": [
      "accuracy of model\n",
      " 0.851965601965602\n"
     ]
    }
   ],
   "source": [
    "y_pred = classifier.predict(X_test)\n",
    "cm = confusion_matrix(Y_test,y_pred)\n",
    "print(\"accuracy of model\\n\",accuracy_score(Y_test,y_pred))"
   ]
  },
  {
   "cell_type": "code",
   "execution_count": 249,
   "id": "901fa315",
   "metadata": {},
   "outputs": [
    {
     "name": "stdout",
     "output_type": "stream",
     "text": [
      "[[4595  362]\n",
      " [ 602  953]]\n"
     ]
    }
   ],
   "source": [
    "print(cm)"
   ]
  },
  {
   "cell_type": "code",
   "execution_count": 253,
   "id": "e05f95b4",
   "metadata": {},
   "outputs": [
    {
     "name": "stdout",
     "output_type": "stream",
     "text": [
      "training\n",
      " 0.9064419533169533\n"
     ]
    }
   ],
   "source": [
    "y_trainxg = classifier.predict(X_train)\n",
    "print(\"training\\n\", accuracy_score(Y_train,y_trainxg))"
   ]
  },
  {
   "cell_type": "markdown",
   "id": "87e2a904",
   "metadata": {},
   "source": [
    "# training Dataset using logistic regrssion"
   ]
  },
  {
   "cell_type": "code",
   "execution_count": 226,
   "id": "e954346f",
   "metadata": {},
   "outputs": [
    {
     "data": {
      "text/plain": [
       "LogisticRegression()"
      ]
     },
     "execution_count": 226,
     "metadata": {},
     "output_type": "execute_result"
    }
   ],
   "source": [
    " from sklearn.linear_model import LogisticRegression\n",
    "reg = LogisticRegression()\n",
    "reg.fit(X_train,Y_train)\n"
   ]
  },
  {
   "cell_type": "code",
   "execution_count": 245,
   "id": "29853990",
   "metadata": {},
   "outputs": [
    {
     "name": "stdout",
     "output_type": "stream",
     "text": [
      "accuracy of model\n",
      " 0.8249385749385749\n"
     ]
    }
   ],
   "source": [
    "y_prediction = reg.predict(X_test)\n",
    "y_trains = reg.predict(X_train)\n",
    "print(\"accuracy of model\\n\",accuracy_score(Y_test, y_prediction, normalize = True, sample_weight = None))"
   ]
  },
  {
   "cell_type": "code",
   "execution_count": 252,
   "id": "be154037",
   "metadata": {},
   "outputs": [
    {
     "name": "stdout",
     "output_type": "stream",
     "text": [
      "training score\n",
      " 0.8249769656019657\n"
     ]
    }
   ],
   "source": [
    "print(\"training score\\n\",accuracy_score(Y_train,y_trains, normalize = True, sample_weight = None))"
   ]
  },
  {
   "cell_type": "code",
   "execution_count": 164,
   "id": "0c45bfd5",
   "metadata": {},
   "outputs": [
    {
     "name": "stdout",
     "output_type": "stream",
     "text": [
      "[0.52473938]\n"
     ]
    }
   ],
   "source": [
    "reg.predict(X_train)\n",
    "print(reg.predict([[0,0,0,0,1,4,1,12,12,3,1,2,3,3]]))"
   ]
  },
  {
   "cell_type": "markdown",
   "id": "e051ce1e",
   "metadata": {},
   "source": [
    "# Using decison tree"
   ]
  },
  {
   "cell_type": "code",
   "execution_count": 237,
   "id": "05f27be6",
   "metadata": {},
   "outputs": [
    {
     "data": {
      "text/plain": [
       "DecisionTreeClassifier(max_depth=10)"
      ]
     },
     "execution_count": 237,
     "metadata": {},
     "output_type": "execute_result"
    }
   ],
   "source": [
    "from sklearn.tree import DecisionTreeClassifier\n",
    "clf = DecisionTreeClassifier(max_depth = 10)\n",
    "clf.fit(X_train,Y_train)"
   ]
  },
  {
   "cell_type": "code",
   "execution_count": 238,
   "id": "5f84e237",
   "metadata": {},
   "outputs": [],
   "source": [
    "y_preddt = clf.predict(X_test)\n",
    "y_tsdt = clf.predict(X_train)"
   ]
  },
  {
   "cell_type": "code",
   "execution_count": 240,
   "id": "ac23c28f",
   "metadata": {},
   "outputs": [
    {
     "name": "stdout",
     "output_type": "stream",
     "text": [
      "accuracy of model\n",
      " 0.8499692874692875\n",
      "training accuracy 0.871007371007371\n"
     ]
    }
   ],
   "source": [
    "print(\"accuracy of model\\n\", accuracy_score(Y_test, y_preddt))\n",
    "print(\"training accuracy\",accuracy_score(Y_train,y_tsdt))"
   ]
  },
  {
   "cell_type": "code",
   "execution_count": 144,
   "id": "4e9a4fff",
   "metadata": {},
   "outputs": [
    {
     "name": "stdout",
     "output_type": "stream",
     "text": [
      "[1]\n"
     ]
    }
   ],
   "source": [
    "y1 = clf.predict(X_train)\n",
    "print(clf.predict([[0,0,0,0,1,4,1,12,12,3,1,2,3,3]]))"
   ]
  }
 ],
 "metadata": {
  "kernelspec": {
   "display_name": "Python 3 (ipykernel)",
   "language": "python",
   "name": "python3"
  },
  "language_info": {
   "codemirror_mode": {
    "name": "ipython",
    "version": 3
   },
   "file_extension": ".py",
   "mimetype": "text/x-python",
   "name": "python",
   "nbconvert_exporter": "python",
   "pygments_lexer": "ipython3",
   "version": "3.9.7"
  }
 },
 "nbformat": 4,
 "nbformat_minor": 5
}
